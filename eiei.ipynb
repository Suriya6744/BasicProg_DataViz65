{
  "nbformat": 4,
  "nbformat_minor": 0,
  "metadata": {
    "colab": {
      "private_outputs": true,
      "provenance": [],
      "toc_visible": true,
      "authorship_tag": "ABX9TyNwF3/or1SYzT4dn+sDtSmG",
      "include_colab_link": true
    },
    "kernelspec": {
      "name": "python3",
      "display_name": "Python 3"
    },
    "language_info": {
      "name": "python"
    }
  },
  "cells": [
    {
      "cell_type": "markdown",
      "metadata": {
        "id": "view-in-github",
        "colab_type": "text"
      },
      "source": [
        "<a href=\"https://colab.research.google.com/github/Suriya6744/BasicProg_DataViz65/blob/main/eiei.ipynb\" target=\"_parent\"><img src=\"https://colab.research.google.com/assets/colab-badge.svg\" alt=\"Open In Colab\"/></a>"
      ]
    },
    {
      "cell_type": "markdown",
      "source": [
        "## Data House"
      ],
      "metadata": {
        "id": "IJ-w1WRv696Z"
      }
    },
    {
      "cell_type": "code",
      "source": [
        "from google.colab import auth\n",
        "auth.authenticate_user()\n",
        "\n",
        "import gspread\n",
        "from google.auth import default\n",
        "creds, _ = default()\n",
        "\n",
        "gc = gspread.authorize(creds)"
      ],
      "metadata": {
        "id": "7x6RMhGMozfo"
      },
      "execution_count": null,
      "outputs": []
    },
    {
      "cell_type": "markdown",
      "source": [
        "#**Home1**"
      ],
      "metadata": {
        "id": "sYLQa4xllw9j"
      }
    },
    {
      "cell_type": "code",
      "source": [
        "import pandas as pd\n",
        "gsht = gc.open_by_key('1QO6OiGqyr8i78MVnjyLBBtr5Y8AoBM1tHZRg0Ud5CW4')\n",
        "worksheet = gsht.worksheet(\"บ้านมือ1\")\n",
        "rows = worksheet.get_all_values()\n",
        "home1 = pd.DataFrame.from_records(rows)\n",
        "home1.columns=home1.iloc[0] \n",
        "home1 = home1.iloc[1:,]"
      ],
      "metadata": {
        "id": "x9d0oH7Co0rO"
      },
      "execution_count": null,
      "outputs": []
    },
    {
      "cell_type": "code",
      "source": [
        "home1"
      ],
      "metadata": {
        "id": "YrRgFYEDnQ7e"
      },
      "execution_count": null,
      "outputs": []
    },
    {
      "cell_type": "code",
      "source": [
        "home1['second_hand'] = 'บ้านมือ1'"
      ],
      "metadata": {
        "id": "ZVd--r_UDiWU"
      },
      "execution_count": null,
      "outputs": []
    },
    {
      "cell_type": "code",
      "source": [
        "home1"
      ],
      "metadata": {
        "id": "5yxUNbFHD5br"
      },
      "execution_count": null,
      "outputs": []
    },
    {
      "cell_type": "markdown",
      "source": [
        "#**Home2**"
      ],
      "metadata": {
        "id": "doXTI5Zale0s"
      }
    },
    {
      "cell_type": "code",
      "source": [
        "gsht = gc.open_by_key('1QO6OiGqyr8i78MVnjyLBBtr5Y8AoBM1tHZRg0Ud5CW4')\n",
        "worksheet = gsht.worksheet(\"บ้านมือ2\")\n",
        "rows = worksheet.get_all_values()\n",
        "home2 = pd.DataFrame.from_records(rows)\n",
        "home2.columns=home2.iloc[0] \n",
        "home2 = home2.iloc[1:,]"
      ],
      "metadata": {
        "id": "yzR16BI-qZIW"
      },
      "execution_count": null,
      "outputs": []
    },
    {
      "cell_type": "code",
      "source": [
        "home2"
      ],
      "metadata": {
        "id": "fB5SnEtR9wPU"
      },
      "execution_count": null,
      "outputs": []
    },
    {
      "cell_type": "code",
      "source": [
        "home2['second_hand'] = 'บ้านมือ2'"
      ],
      "metadata": {
        "id": "zPoGQpk9D-9U"
      },
      "execution_count": null,
      "outputs": []
    },
    {
      "cell_type": "code",
      "source": [
        "home2"
      ],
      "metadata": {
        "id": "kRITfqVfENln"
      },
      "execution_count": null,
      "outputs": []
    },
    {
      "cell_type": "markdown",
      "source": [
        "## Concat"
      ],
      "metadata": {
        "id": "0zQAfBuGBmer"
      }
    },
    {
      "cell_type": "code",
      "source": [
        "all = pd.concat([home1,home2])\n",
        "all"
      ],
      "metadata": {
        "id": "PvUrSA0SBq1t"
      },
      "execution_count": null,
      "outputs": []
    },
    {
      "cell_type": "code",
      "source": [
        "all_h.columns"
      ],
      "metadata": {
        "id": "H9xFSnQhB7T-"
      },
      "execution_count": null,
      "outputs": []
    },
    {
      "cell_type": "code",
      "source": [
        "for i in all.columns:\n",
        "    print(i)"
      ],
      "metadata": {
        "id": "gP2-VomNE429"
      },
      "execution_count": null,
      "outputs": []
    },
    {
      "cell_type": "code",
      "source": [
        "all = all[['id','latitude','longitude','second_hand','renovate','number_of_rai','number_of_ngan','number_of_va','number_of_story','number_of_bedroom','number_of_bathroom','direction','furniture','usable_area','number_of_parking', 'sell_price']]"
      ],
      "metadata": {
        "id": "kRpee3A9C2ir"
      },
      "execution_count": null,
      "outputs": []
    },
    {
      "cell_type": "markdown",
      "source": [
        "#**Home1**"
      ],
      "metadata": {
        "id": "cvp_cQUqHpJl"
      }
    },
    {
      "cell_type": "markdown",
      "source": [
        "## 📌 missing I\n",
        "- number of rai\n",
        "- number of ngan\n",
        "- number of va\n",
        "\n",
        "\n",
        "```\n",
        "fill na with 0\n",
        "```\n",
        "\n"
      ],
      "metadata": {
        "id": "0NrxXzgqovSa"
      }
    },
    {
      "cell_type": "code",
      "source": [
        "import numpy as np"
      ],
      "metadata": {
        "id": "ZXRti2P8HpJn"
      },
      "execution_count": null,
      "outputs": []
    },
    {
      "cell_type": "code",
      "source": [
        "all['number_of_rai'] = all['number_of_rai'].replace(np.nan,0)"
      ],
      "metadata": {
        "id": "tOgOgTTiHpJn"
      },
      "execution_count": null,
      "outputs": []
    },
    {
      "cell_type": "code",
      "source": [
        "all['number_of_ngan'] = all['number_of_ngan'].replace(np.nan,0)"
      ],
      "metadata": {
        "id": "5aGyUTBuHpJn"
      },
      "execution_count": null,
      "outputs": []
    },
    {
      "cell_type": "code",
      "source": [
        "all['number_of_va'] = all['number_of_va'].replace(np.nan,0)"
      ],
      "metadata": {
        "id": "3KcmW657HpJn"
      },
      "execution_count": null,
      "outputs": []
    },
    {
      "cell_type": "code",
      "source": [
        "all.isnull().any()"
      ],
      "metadata": {
        "id": "r1gBxi7KHpJn"
      },
      "execution_count": null,
      "outputs": []
    },
    {
      "cell_type": "markdown",
      "source": [
        "## 📌 missing II\n",
        "- number of story\n",
        "\n",
        "```\n",
        "fill na with ไม่ได้ระบุ + replace value\n",
        "```\n"
      ],
      "metadata": {
        "id": "nudNzzkvpVDN"
      }
    },
    {
      "cell_type": "code",
      "source": [
        "all['number_of_story'] = all['number_of_story'].replace(np.nan,'ไม่ได้ระบุ')"
      ],
      "metadata": {
        "id": "bQFd9kFOHpJo"
      },
      "execution_count": null,
      "outputs": []
    },
    {
      "cell_type": "code",
      "source": [
        "all['number_of_story'] = all['number_of_story'].replace(0,'ไม่มีสิ่งปลูกสร้าง / มีสิ่งปลูกสร้าง 1 ชั้น')"
      ],
      "metadata": {
        "id": "d2YM7ExVHpJo"
      },
      "execution_count": null,
      "outputs": []
    },
    {
      "cell_type": "code",
      "source": [
        "all['number_of_story'] = all['number_of_story'].replace(1,'มีสิ่งปลูกสร้าง 1 ชั้น')"
      ],
      "metadata": {
        "id": "yVxBse4QHpJo"
      },
      "execution_count": null,
      "outputs": []
    },
    {
      "cell_type": "code",
      "source": [
        "all['number_of_story'] = all['number_of_story'].replace(2,'มีสิ่งปลูกสร้าง 2 ชั้น')"
      ],
      "metadata": {
        "id": "6s06qdIBHpJo"
      },
      "execution_count": null,
      "outputs": []
    },
    {
      "cell_type": "code",
      "source": [
        "all.isnull().any()"
      ],
      "metadata": {
        "id": "ljrlZQfNHpJp"
      },
      "execution_count": null,
      "outputs": []
    },
    {
      "cell_type": "markdown",
      "source": [
        "## 📌 missing III\n",
        "- number of bedroom จำนวนห้องนอน \n",
        "- number of bathroom จำนวนห้องน้ำ\n",
        "+ number of parking จำนวนที่จอดรถ\n",
        "+ sell_price ราคาขาย\n",
        "+ area usable พื้นที่ใช้สอย\n",
        "\n",
        "\n",
        "\n",
        "\n",
        "```\n",
        "ควรเติมค่าว่างด้วย ไม่ระบุ เพราะบางบ้านอาจมี 0 ห้องนอน เลยไม่เติม 0 เพราะอาจ misslead \n",
        "```\n"
      ],
      "metadata": {
        "id": "Qx_EwODkqGy2"
      }
    },
    {
      "cell_type": "code",
      "source": [
        "all['number_of_bedroom'] = all['number_of_bedroom'].replace(np.nan,'ไม่ได้ระบุ')"
      ],
      "metadata": {
        "id": "rEL-1jbAHpJp"
      },
      "execution_count": null,
      "outputs": []
    },
    {
      "cell_type": "code",
      "source": [
        "all['number_of_bathroom'] = all['number_of_bathroom'].replace(np.nan,'ไม่ได้ระบุ')"
      ],
      "metadata": {
        "id": "YTFWuSw6HpJp"
      },
      "execution_count": null,
      "outputs": []
    },
    {
      "cell_type": "code",
      "source": [
        "all['number_of_parking'] = all['number_of_parking'].replace(np.nan,'ไม่ได้ระบุ')"
      ],
      "metadata": {
        "id": "PI1sRS6oHpJp"
      },
      "execution_count": null,
      "outputs": []
    },
    {
      "cell_type": "code",
      "source": [
        "all['sell_price'] = all['sell_price'].replace(np.nan,'ไม่ได้ระบุ')"
      ],
      "metadata": {
        "id": "sWWBQXmmHpJq"
      },
      "execution_count": null,
      "outputs": []
    },
    {
      "cell_type": "code",
      "source": [
        "all['usable_area'] = all['usable_area'].replace(np.nan,'ไม่ได้ระบุ')"
      ],
      "metadata": {
        "id": "oSkzizgVHpJq"
      },
      "execution_count": null,
      "outputs": []
    },
    {
      "cell_type": "markdown",
      "source": [
        "## 📌 missing IIII\n",
        "- direction\n",
        "- furniture\n",
        "\n",
        "\n",
        "\n",
        "```\n",
        "เติมค่าว่างด้วย  0\n",
        "```"
      ],
      "metadata": {
        "id": "tkspKwzxuHH-"
      }
    },
    {
      "cell_type": "code",
      "source": [
        "all['furniture'] = all['furniture'].replace(np.nan, 0)"
      ],
      "metadata": {
        "id": "2IrRrZ7hHpJq"
      },
      "execution_count": null,
      "outputs": []
    },
    {
      "cell_type": "code",
      "source": [
        "all['direction'] = all['direction'].replace(np.nan, 0)"
      ],
      "metadata": {
        "id": "2XZNonT_HpJq"
      },
      "execution_count": null,
      "outputs": []
    },
    {
      "cell_type": "code",
      "source": [
        "all.isnull().any()"
      ],
      "metadata": {
        "id": "utpnXupfHpJq"
      },
      "execution_count": null,
      "outputs": []
    },
    {
      "cell_type": "code",
      "source": [],
      "metadata": {
        "id": "kid0P5lcIyPP"
      },
      "execution_count": null,
      "outputs": []
    },
    {
      "cell_type": "markdown",
      "source": [
        "#**Home2**"
      ],
      "metadata": {
        "id": "vbxLNSB2Iycq"
      }
    },
    {
      "cell_type": "markdown",
      "source": [
        "\n",
        "## 📌 missing I\n",
        "- renovate ค่าว่างคือที่ดินเปล่า จึงไม่มีการ renovate ได้ ถ้าอันที่มีค่า มักเป็นบ้านหรือ ที่ดินพร้อมสิ่งปลูกสร้างที่ตอบได้ว่าเคยหรือไม่เคย renovate\n",
        "\n",
        "\n",
        "```\n",
        "แต่จากที่ดู พบว่า มีคละๆกันไป แม้จะเป็นที่ดิน ก็มีการตอบ no หรือ yes ได้ ดังนั้น เลือกเติม renovate ด้วยค่า *ไม่ได้ระบุ*\n",
        "```\n",
        "\n",
        "- ครบ 1656 แถวจ้า\n",
        "\n"
      ],
      "metadata": {
        "id": "a6-ZhL59zlhE"
      }
    },
    {
      "cell_type": "markdown",
      "source": [
        "## 📌 missing II\n",
        "- number of story น่าจะเป็นจำนวนชั้นของสิ่งปลูกสร้าง \n",
        "- ซึ่งมีกรณีชื่อ ที่ดินเปล่า แต่เติมเลข 0, 1, 2 \n",
        "- หรือกรณีชื่อ บ้าน แต่เติมเลข 0, 1, 2 เช่นกัน \n",
        "-- แปลว่า อาจจะต้องทำ dummy variable \n",
        "\n",
        "\n",
        "```\n",
        "0 : ไม่มีสิ่งปลูกสร้าง / มีสิ่งปลูกสร้าง 1 ชั้น แต่ไม่เข้าใจ metadata คิดว่า บ้านไม่มีชั้น\n",
        "1 : มีสิ่งปลูกสร้าง 1 ชั้น\n",
        "2 : มีสิ่งปลูกสร้าง 2 ชั้น \n",
        "ไม่ระบุ\n",
        "```\n",
        "\n",
        "\n",
        "\n",
        "```\n",
        "เติม ไม่ระบุ : ช่องว่าง ไม่เติม 0 เพราะอาจ misslead \n",
        "```\n",
        "\n"
      ],
      "metadata": {
        "id": "kfTMz8NI2VPn"
      }
    },
    {
      "cell_type": "code",
      "source": [
        "#h2[h2['name_th'].str.startswith('ที่ดินเปล่า')].eq('').any() #มีค่าว่าง"
      ],
      "metadata": {
        "id": "DRmrBuoUYZH6"
      },
      "execution_count": null,
      "outputs": []
    },
    {
      "cell_type": "code",
      "source": [
        "#h2[h2['name_th'].str.startswith('บ้าน')].eq('').any()  #มีค่าว่าง"
      ],
      "metadata": {
        "id": "ptuU23IgYcvZ"
      },
      "execution_count": null,
      "outputs": []
    },
    {
      "cell_type": "markdown",
      "source": [
        "**Replace null with not specifieed**"
      ],
      "metadata": {
        "id": "pmSDiuo1eIO3"
      }
    },
    {
      "cell_type": "code",
      "source": [
        "all['number_of_story'] = all['number_of_story'].replace(np.nan,'ไม่ได้ระบุ')"
      ],
      "metadata": {
        "id": "0_gEg6LoaqcI"
      },
      "execution_count": null,
      "outputs": []
    },
    {
      "cell_type": "markdown",
      "source": [
        "**Replace 0 with ไม่มีสิ่งปลูกสร้าง / มีสิ่งปลูกสร้าง 1 ชั้น**"
      ],
      "metadata": {
        "id": "8xIrs12EeO2P"
      }
    },
    {
      "cell_type": "code",
      "source": [
        "all['number_of_story'] = all['number_of_story'].replace(0,'ไม่มีสิ่งปลูกสร้าง / มีสิ่งปลูกสร้าง 1 ชั้น')"
      ],
      "metadata": {
        "id": "HAZ0UHoUd2Gt"
      },
      "execution_count": null,
      "outputs": []
    },
    {
      "cell_type": "markdown",
      "source": [
        "**Replace 1 with มีสิ่งปลูกสร้าง 1 ชั้น**"
      ],
      "metadata": {
        "id": "DIkw96LxeTt0"
      }
    },
    {
      "cell_type": "code",
      "source": [
        "all['number_of_story'] = all['number_of_story'].replace(1,'มีสิ่งปลูกสร้าง 1 ชั้น')"
      ],
      "metadata": {
        "id": "neJN-_Qsd-wn"
      },
      "execution_count": null,
      "outputs": []
    },
    {
      "cell_type": "markdown",
      "source": [
        "**Replace 2 with มีสิ่งปลูกสร้าง 2 ชั้น**"
      ],
      "metadata": {
        "id": "dJvSgPeUeauz"
      }
    },
    {
      "cell_type": "code",
      "source": [
        "all['number_of_story'] = all['number_of_story'].replace(2,'มีสิ่งปลูกสร้าง 2 ชั้น')"
      ],
      "metadata": {
        "id": "Jh6Fci6LeDHh"
      },
      "execution_count": null,
      "outputs": []
    },
    {
      "cell_type": "code",
      "source": [
        "all.isnull().any()"
      ],
      "metadata": {
        "id": "-61WjtSSeszl"
      },
      "execution_count": null,
      "outputs": []
    },
    {
      "cell_type": "code",
      "source": [
        "#h2[h2['name_th'].str.startswith('ขายที่ดินพร้อมสิ่งปลูกสร้าง')].eq('').any() #138 renovate is not null"
      ],
      "metadata": {
        "id": "b0bWXB93-qXv"
      },
      "execution_count": null,
      "outputs": []
    },
    {
      "cell_type": "code",
      "source": [
        "#h2[h2['name_th'].str.startswith('ขายที่ดินพร้อมสิ่งปลูกสร้าง')]['number_of_story'].replace('',1)"
      ],
      "metadata": {
        "id": "XHMneeBlLrsJ"
      },
      "execution_count": null,
      "outputs": []
    },
    {
      "cell_type": "code",
      "source": [
        "#h2[h2['name_th'].str.startswith('ขายที่ดินเปล่า')].eq('').any() #1 renovate is not null"
      ],
      "metadata": {
        "id": "k_WBtQJJ-eZt"
      },
      "execution_count": null,
      "outputs": []
    },
    {
      "cell_type": "code",
      "source": [
        "#h2[h2['name_th'].str.startswith('ขายบ้าน')].eq('').any() #814 มีค่าว่าง"
      ],
      "metadata": {
        "id": "vVOMVMH8933s"
      },
      "execution_count": null,
      "outputs": []
    },
    {
      "cell_type": "code",
      "source": [
        "#h2[h2['name_th'].str.startswith('บ้าน')].eq('').any() #323 มีค่าว่าง"
      ],
      "metadata": {
        "id": "YU72W3Xk9u5L"
      },
      "execution_count": null,
      "outputs": []
    },
    {
      "cell_type": "code",
      "source": [],
      "metadata": {
        "id": "bog7bOUwKDlH"
      },
      "execution_count": null,
      "outputs": []
    },
    {
      "cell_type": "code",
      "source": [
        "#h2[h2['name_th'].str.startswith('ที่ดิน')].eq('').any() #47 มีค่าว่าง"
      ],
      "metadata": {
        "id": "prsrxgiS9qxD"
      },
      "execution_count": null,
      "outputs": []
    },
    {
      "cell_type": "code",
      "source": [
        "#h2[h2['name_th'].str.startswith('ที่ดินเปล่า')].eq('').any() #4 มีค่าว่าง"
      ],
      "metadata": {
        "id": "j66tWciy9D-t"
      },
      "execution_count": null,
      "outputs": []
    },
    {
      "cell_type": "code",
      "source": [
        "#h2[h2['name_th'].str.startswith('ที่ดินพร้อมสิ่งปลูกสร้าง')].eq('').any() # มี 43 rows renovate is not null"
      ],
      "metadata": {
        "id": "65D46Nw18xe-"
      },
      "execution_count": null,
      "outputs": []
    },
    {
      "cell_type": "code",
      "source": [
        "#h2[h2['name_th'].str.startswith('📌')].eq('').any() # 11 renovate is not null"
      ],
      "metadata": {
        "id": "HfCjYPx5Q10U"
      },
      "execution_count": null,
      "outputs": []
    },
    {
      "cell_type": "code",
      "source": [
        "#h2[h2['name_th'].str.startswith('ขาย')].eq('').any() #1173"
      ],
      "metadata": {
        "id": "soGRK3YbRdSo"
      },
      "execution_count": null,
      "outputs": []
    },
    {
      "cell_type": "markdown",
      "source": [
        "**Replace** 'null' with not specifieed"
      ],
      "metadata": {
        "id": "XU_MSXDRaJFz"
      }
    },
    {
      "cell_type": "code",
      "source": [
        "import numpy as np"
      ],
      "metadata": {
        "id": "WXQfzzeAhA9A"
      },
      "execution_count": null,
      "outputs": []
    },
    {
      "cell_type": "code",
      "source": [
        "all['renovate'] = all['renovate'].replace(np.nan,'ไม่ได้ระบุ')"
      ],
      "metadata": {
        "id": "ojYY1-AVTSNg"
      },
      "execution_count": null,
      "outputs": []
    },
    {
      "cell_type": "code",
      "source": [
        "all.isnull().any()"
      ],
      "metadata": {
        "id": "-1rmmYH7gEx1"
      },
      "execution_count": null,
      "outputs": []
    },
    {
      "cell_type": "code",
      "source": [
        "#h2[h2['renovate']=='not specified'].count() #211"
      ],
      "metadata": {
        "id": "gm4AyXXnUGI2"
      },
      "execution_count": null,
      "outputs": []
    },
    {
      "cell_type": "code",
      "source": [
        "#h2[h2['renovate']=='no'].count() #1393"
      ],
      "metadata": {
        "id": "poxz1tPJUWOZ"
      },
      "execution_count": null,
      "outputs": []
    },
    {
      "cell_type": "code",
      "source": [
        "#h2[h2['renovate']=='yes'].count() #24"
      ],
      "metadata": {
        "id": "6jC_P7KFUZ9Z"
      },
      "execution_count": null,
      "outputs": []
    },
    {
      "cell_type": "code",
      "source": [
        "#h2[h2['renovate']=='ไม่ระบุ'].count() #28"
      ],
      "metadata": {
        "id": "O35guVlJUvkD"
      },
      "execution_count": null,
      "outputs": []
    },
    {
      "cell_type": "code",
      "source": [],
      "metadata": {
        "id": "6FbzskeiKmQe"
      },
      "execution_count": null,
      "outputs": []
    },
    {
      "cell_type": "markdown",
      "source": [
        "## 📌 missing III\n",
        "- number of bedroom จำนวนห้องนอน \n",
        "+ number of parking จำนวนที่จอดรถ\n",
        "+ sell_price ราคาขาย\n",
        "+ area usable พื้นที่ใช้สอย\n",
        "\n",
        "\n",
        "\n",
        "```\n",
        "ควรเติมค่าว่างด้วย ไม่ระบุ เพราะบางบ้านอาจมี 0 ห้องนอน เลยไม่เติม 0 เพราะอาจ misslead \n",
        "```\n",
        "\n"
      ],
      "metadata": {
        "id": "lRpd0Zfn2l06"
      }
    },
    {
      "cell_type": "code",
      "source": [
        "all['number_of_bedroom'] = all['number_of_bedroom'].replace(np.nan,'ไม่ได้ระบุ')"
      ],
      "metadata": {
        "id": "Cu12dr1K2h2H"
      },
      "execution_count": null,
      "outputs": []
    },
    {
      "cell_type": "code",
      "source": [
        "all['number_of_parking'] = all['number_of_parking'].replace(np.nan,'ไม่ได้ระบุ')"
      ],
      "metadata": {
        "id": "yCQXzjuHknKh"
      },
      "execution_count": null,
      "outputs": []
    },
    {
      "cell_type": "code",
      "source": [
        "all['sell_price'] = all['sell_price'].replace(np.nan,'ไม่ได้ระบุ')"
      ],
      "metadata": {
        "id": "tpNns2t0k4HN"
      },
      "execution_count": null,
      "outputs": []
    },
    {
      "cell_type": "code",
      "source": [
        "all['usable_area'] = all['usable_area'].replace(np.nan,'ไม่ได้ระบุ')"
      ],
      "metadata": {
        "id": "OUIGsWhClHe6"
      },
      "execution_count": null,
      "outputs": []
    },
    {
      "cell_type": "code",
      "source": [
        "all.isnull().any()"
      ],
      "metadata": {
        "id": "WPipgx4VkAnE"
      },
      "execution_count": null,
      "outputs": []
    },
    {
      "cell_type": "code",
      "source": [
        "all"
      ],
      "metadata": {
        "id": "R_xGUnqhKyTY"
      },
      "execution_count": null,
      "outputs": []
    },
    {
      "cell_type": "code",
      "source": [
        "all[all['id']== '314']"
      ],
      "metadata": {
        "id": "O3rMZ4xhLv49"
      },
      "execution_count": null,
      "outputs": []
    },
    {
      "cell_type": "code",
      "source": [
        "all['number_of_rai'] = all['number_of_rai'].replace('','0')"
      ],
      "metadata": {
        "id": "jWwo8nyVL6qJ"
      },
      "execution_count": null,
      "outputs": []
    },
    {
      "cell_type": "code",
      "source": [
        "all['number_of_ngan'] = all['number_of_ngan'].replace('','0')"
      ],
      "metadata": {
        "id": "RFHoKVRTMUaZ"
      },
      "execution_count": null,
      "outputs": []
    },
    {
      "cell_type": "code",
      "source": [
        "all[all['id']== '314']"
      ],
      "metadata": {
        "id": "-6Sg8EdRL9XN"
      },
      "execution_count": null,
      "outputs": []
    },
    {
      "cell_type": "code",
      "source": [
        "all"
      ],
      "metadata": {
        "id": "xpug0yRuMaWj"
      },
      "execution_count": null,
      "outputs": []
    },
    {
      "cell_type": "code",
      "source": [],
      "metadata": {
        "id": "BE1uxwRXMmK6"
      },
      "execution_count": null,
      "outputs": []
    }
  ]
}