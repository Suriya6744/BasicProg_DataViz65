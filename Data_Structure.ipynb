{
  "nbformat": 4,
  "nbformat_minor": 0,
  "metadata": {
    "colab": {
      "name": "Data Structure.ipynb",
      "provenance": [],
      "toc_visible": true,
      "authorship_tag": "ABX9TyN8+kIL/OTe+MYjcfDlDSNb",
      "include_colab_link": true
    },
    "kernelspec": {
      "name": "python3",
      "display_name": "Python 3"
    },
    "language_info": {
      "name": "python"
    }
  },
  "cells": [
    {
      "cell_type": "markdown",
      "metadata": {
        "id": "view-in-github",
        "colab_type": "text"
      },
      "source": [
        "<a href=\"https://colab.research.google.com/github/Suriya6744/BasicProg_DataViz65/blob/main/Data_Structure.ipynb\" target=\"_parent\"><img src=\"https://colab.research.google.com/assets/colab-badge.svg\" alt=\"Open In Colab\"/></a>"
      ]
    },
    {
      "cell_type": "markdown",
      "source": [
        "#Data Structure (โครงสร้างข้อมูล)\n",
        "การเก็บข้อมูลหลายๆตัวไว้ด้วยกันอย่างเป็นระเบียบ"
      ],
      "metadata": {
        "id": "f-mxu60YMgt4"
      }
    },
    {
      "cell_type": "markdown",
      "source": [
        "## `list ()`\n",
        "- เก็บอะไรก็ได้ int, str เป็นต้น\n",
        "- ลำดับในการเก็บ มีความสำคัญ"
      ],
      "metadata": {
        "id": "a7XuPP6ENEgN"
      }
    },
    {
      "cell_type": "code",
      "source": [
        "list_a = [1,2,3,4,5,6] # [] คือ square brackets"
      ],
      "metadata": {
        "id": "1orUuSyJNamY"
      },
      "execution_count": 1,
      "outputs": []
    },
    {
      "cell_type": "code",
      "source": [
        "list_a"
      ],
      "metadata": {
        "colab": {
          "base_uri": "https://localhost:8080/"
        },
        "id": "UlK8s-UVNzhL",
        "outputId": "a4706a1f-a07a-4dbe-d8ad-757774d90287"
      },
      "execution_count": 2,
      "outputs": [
        {
          "output_type": "execute_result",
          "data": {
            "text/plain": [
              "[1, 2, 3, 4, 5, 6]"
            ]
          },
          "metadata": {},
          "execution_count": 2
        }
      ]
    },
    {
      "cell_type": "code",
      "source": [
        "list_b = ['ab',2,3.14,list_a]"
      ],
      "metadata": {
        "id": "QKjGETk5N42v"
      },
      "execution_count": 3,
      "outputs": []
    },
    {
      "cell_type": "code",
      "source": [
        "list_b "
      ],
      "metadata": {
        "colab": {
          "base_uri": "https://localhost:8080/"
        },
        "id": "JFTbmLzvOdzS",
        "outputId": "d71b79a1-6e95-4e9e-8a15-a55d82d5bdf6"
      },
      "execution_count": 4,
      "outputs": [
        {
          "output_type": "execute_result",
          "data": {
            "text/plain": [
              "['ab', 2, 3.14, [1, 2, 3, 4, 5, 6]]"
            ]
          },
          "metadata": {},
          "execution_count": 4
        }
      ]
    },
    {
      "cell_type": "markdown",
      "source": [
        "### indexing  การชี้สมาชิกใน list ด้วยเลขลำดับของ list"
      ],
      "metadata": {
        "id": "EvWT01hHQjfG"
      }
    },
    {
      "cell_type": "code",
      "source": [
        "list_a[3] #หา list_a ตัวที่ 3"
      ],
      "metadata": {
        "colab": {
          "base_uri": "https://localhost:8080/"
        },
        "id": "aIvyylLCOjal",
        "outputId": "67938a83-789b-4e21-d467-0dd2c030f71b"
      },
      "execution_count": 5,
      "outputs": [
        {
          "output_type": "execute_result",
          "data": {
            "text/plain": [
              "4"
            ]
          },
          "metadata": {},
          "execution_count": 5
        }
      ]
    },
    {
      "cell_type": "code",
      "source": [
        "list_b[3] #หา list_b ตัวที่ 3"
      ],
      "metadata": {
        "colab": {
          "base_uri": "https://localhost:8080/"
        },
        "id": "OfeynkV1OsQ7",
        "outputId": "e62ad062-95e7-4ada-e1b1-608248cc033d"
      },
      "execution_count": 6,
      "outputs": [
        {
          "output_type": "execute_result",
          "data": {
            "text/plain": [
              "[1, 2, 3, 4, 5, 6]"
            ]
          },
          "metadata": {},
          "execution_count": 6
        }
      ]
    },
    {
      "cell_type": "code",
      "source": [
        "list_b[3][4] #หาตัวที่ 4 ใน list_b[3]"
      ],
      "metadata": {
        "colab": {
          "base_uri": "https://localhost:8080/"
        },
        "id": "RN8BD9CRPQ7N",
        "outputId": "d3f0706d-ed3d-46de-ef97-0ee7d626de36"
      },
      "execution_count": 7,
      "outputs": [
        {
          "output_type": "execute_result",
          "data": {
            "text/plain": [
              "5"
            ]
          },
          "metadata": {},
          "execution_count": 7
        }
      ]
    },
    {
      "cell_type": "code",
      "source": [
        "list_a[6] "
      ],
      "metadata": {
        "colab": {
          "base_uri": "https://localhost:8080/",
          "height": 167
        },
        "id": "_grYm8mVQ02W",
        "outputId": "7d9421d5-a30d-4957-ad11-dd7915e50c67"
      },
      "execution_count": 8,
      "outputs": [
        {
          "output_type": "error",
          "ename": "IndexError",
          "evalue": "ignored",
          "traceback": [
            "\u001b[0;31m---------------------------------------------------------------------------\u001b[0m",
            "\u001b[0;31mIndexError\u001b[0m                                Traceback (most recent call last)",
            "\u001b[0;32m<ipython-input-8-fce334630616>\u001b[0m in \u001b[0;36m<module>\u001b[0;34m()\u001b[0m\n\u001b[0;32m----> 1\u001b[0;31m \u001b[0mlist_a\u001b[0m\u001b[0;34m[\u001b[0m\u001b[0;36m6\u001b[0m\u001b[0;34m]\u001b[0m\u001b[0;34m\u001b[0m\u001b[0;34m\u001b[0m\u001b[0m\n\u001b[0m",
            "\u001b[0;31mIndexError\u001b[0m: list index out of range"
          ]
        }
      ]
    },
    {
      "cell_type": "code",
      "source": [
        "list_a[-1] # index -1 คือตัวสุดท้ายของ list นับจากท้าย"
      ],
      "metadata": {
        "colab": {
          "base_uri": "https://localhost:8080/"
        },
        "id": "SSQ0w5hpQ8lz",
        "outputId": "c360febf-add8-4c51-95f6-ae047eabebd1"
      },
      "execution_count": 9,
      "outputs": [
        {
          "output_type": "execute_result",
          "data": {
            "text/plain": [
              "6"
            ]
          },
          "metadata": {},
          "execution_count": 9
        }
      ]
    },
    {
      "cell_type": "code",
      "source": [
        "list_a[-4] # นับจากท้าย"
      ],
      "metadata": {
        "colab": {
          "base_uri": "https://localhost:8080/"
        },
        "id": "hbTro5g3Ra2V",
        "outputId": "82c978e6-9895-443e-cae4-3055d63a15c6"
      },
      "execution_count": 10,
      "outputs": [
        {
          "output_type": "execute_result",
          "data": {
            "text/plain": [
              "3"
            ]
          },
          "metadata": {},
          "execution_count": 10
        }
      ]
    },
    {
      "cell_type": "markdown",
      "source": [
        "### การสร้าง `list()`"
      ],
      "metadata": {
        "id": "hj_Cz-slR8WA"
      }
    },
    {
      "cell_type": "code",
      "source": [
        "list_x1 = [] #แบบที่ 1 \n",
        "list_x2 = list() #แบบที่ 2 "
      ],
      "metadata": {
        "id": "5M-iUNm2SI8f"
      },
      "execution_count": 49,
      "outputs": []
    },
    {
      "cell_type": "code",
      "source": [
        "print(list_x1)\n",
        "print(list_x2)"
      ],
      "metadata": {
        "colab": {
          "base_uri": "https://localhost:8080/"
        },
        "id": "4PG1O_mRTKOf",
        "outputId": "a51f7fe8-2182-47d6-b281-6fa8454a582a"
      },
      "execution_count": 50,
      "outputs": [
        {
          "output_type": "stream",
          "name": "stdout",
          "text": [
            "[]\n",
            "[]\n"
          ]
        }
      ]
    },
    {
      "cell_type": "markdown",
      "source": [
        "### เพิ่มสมาชิกเขาไปใน list ด้วย `append()`\n",
        "\n",
        "\n"
      ],
      "metadata": {
        "id": "_LM4l3MYTeO5"
      }
    },
    {
      "cell_type": "code",
      "source": [
        "list_x1.append(2) # 2 ถูกนำไปใส่ใน list_x1"
      ],
      "metadata": {
        "id": "lbo7d0VxTp99"
      },
      "execution_count": 51,
      "outputs": []
    },
    {
      "cell_type": "code",
      "source": [
        "list_x1"
      ],
      "metadata": {
        "colab": {
          "base_uri": "https://localhost:8080/"
        },
        "id": "9DJ1G7_xT6nc",
        "outputId": "c3526a46-b5db-488e-d91a-0b17f3972d51"
      },
      "execution_count": 52,
      "outputs": [
        {
          "output_type": "execute_result",
          "data": {
            "text/plain": [
              "[2]"
            ]
          },
          "metadata": {},
          "execution_count": 52
        }
      ]
    },
    {
      "cell_type": "code",
      "source": [
        "list_x1.append(4)\n",
        "print(list_x1)"
      ],
      "metadata": {
        "id": "W-nhttm41quH",
        "outputId": "75505bda-e2e8-4aac-9db9-887b61a660a9",
        "colab": {
          "base_uri": "https://localhost:8080/"
        }
      },
      "execution_count": 54,
      "outputs": [
        {
          "output_type": "stream",
          "name": "stdout",
          "text": [
            "[2, 4]\n"
          ]
        }
      ]
    },
    {
      "cell_type": "code",
      "source": [
        "list_x1[0]"
      ],
      "metadata": {
        "colab": {
          "base_uri": "https://localhost:8080/"
        },
        "id": "EZZqwltcUkWB",
        "outputId": "f00d4d6f-b7f6-46c6-8863-92761fad432d"
      },
      "execution_count": 16,
      "outputs": [
        {
          "output_type": "execute_result",
          "data": {
            "text/plain": [
              "2"
            ]
          },
          "metadata": {},
          "execution_count": 16
        }
      ]
    },
    {
      "cell_type": "code",
      "source": [
        "list_x1[-1]"
      ],
      "metadata": {
        "colab": {
          "base_uri": "https://localhost:8080/"
        },
        "id": "cT904WmAUvDN",
        "outputId": "39c1c0c6-3842-4a21-af8e-5bc1041df90d"
      },
      "execution_count": 17,
      "outputs": [
        {
          "output_type": "execute_result",
          "data": {
            "text/plain": [
              "4"
            ]
          },
          "metadata": {},
          "execution_count": 17
        }
      ]
    },
    {
      "cell_type": "code",
      "source": [
        "list_x2"
      ],
      "metadata": {
        "colab": {
          "base_uri": "https://localhost:8080/"
        },
        "id": "TBdhP2C-U-De",
        "outputId": "4b2a4725-ab40-43ed-a820-964ebbfbf0fb"
      },
      "execution_count": 18,
      "outputs": [
        {
          "output_type": "execute_result",
          "data": {
            "text/plain": [
              "[]"
            ]
          },
          "metadata": {},
          "execution_count": 18
        }
      ]
    },
    {
      "cell_type": "code",
      "source": [
        "list_x2.append('ha') "
      ],
      "metadata": {
        "id": "rccEmdpHVB5g"
      },
      "execution_count": 31,
      "outputs": []
    },
    {
      "cell_type": "code",
      "source": [
        "list_x2 # run กี่รอบก็จะเพิ่มจำนวนมา"
      ],
      "metadata": {
        "colab": {
          "base_uri": "https://localhost:8080/"
        },
        "id": "cfmAIs_fVOin",
        "outputId": "65901490-2fb4-4058-fbe5-6774c5a1d692"
      },
      "execution_count": 32,
      "outputs": [
        {
          "output_type": "execute_result",
          "data": {
            "text/plain": [
              "['ha', 'ha']"
            ]
          },
          "metadata": {},
          "execution_count": 32
        }
      ]
    },
    {
      "cell_type": "markdown",
      "source": [
        "### ลบสมาชิกจาก list"
      ],
      "metadata": {
        "id": "Xv3VAXkWWHZd"
      }
    },
    {
      "cell_type": "code",
      "source": [
        "list_x1.append('ha') "
      ],
      "metadata": {
        "id": "Gw15ETJ8V04Q"
      },
      "execution_count": 57,
      "outputs": []
    },
    {
      "cell_type": "code",
      "source": [
        "list_x1"
      ],
      "metadata": {
        "colab": {
          "base_uri": "https://localhost:8080/"
        },
        "id": "8ZVjO747V5If",
        "outputId": "0f1427b4-880f-480e-da20-03a183417fff"
      },
      "execution_count": 33,
      "outputs": [
        {
          "output_type": "execute_result",
          "data": {
            "text/plain": [
              "[]"
            ]
          },
          "metadata": {},
          "execution_count": 33
        }
      ]
    },
    {
      "cell_type": "code",
      "source": [
        "list_x1.pop() #pop() จะลบทีละตัวจากตัวท้ายสุด"
      ],
      "metadata": {
        "colab": {
          "base_uri": "https://localhost:8080/",
          "height": 35
        },
        "id": "mR68_TTlWU2V",
        "outputId": "8254f411-b07e-429b-e1c2-eb893b9e4e83"
      },
      "execution_count": 28,
      "outputs": [
        {
          "output_type": "execute_result",
          "data": {
            "text/plain": [
              "'ha'"
            ],
            "application/vnd.google.colaboratory.intrinsic+json": {
              "type": "string"
            }
          },
          "metadata": {},
          "execution_count": 28
        }
      ]
    },
    {
      "cell_type": "code",
      "source": [
        "list_x1"
      ],
      "metadata": {
        "colab": {
          "base_uri": "https://localhost:8080/"
        },
        "id": "fPbX_SQkWfg0",
        "outputId": "20bc5b31-49d7-4ac8-ba13-2f1c7ee5a023"
      },
      "execution_count": 58,
      "outputs": [
        {
          "output_type": "execute_result",
          "data": {
            "text/plain": [
              "[2, 4, 'ha']"
            ]
          },
          "metadata": {},
          "execution_count": 58
        }
      ]
    },
    {
      "cell_type": "code",
      "source": [
        "list_x1.pop()\n",
        "print(list_x1)"
      ],
      "metadata": {
        "colab": {
          "base_uri": "https://localhost:8080/"
        },
        "id": "5OPy2QyyWwNF",
        "outputId": "e0fd5435-6973-46f9-f67d-b2aba76455bb"
      },
      "execution_count": 59,
      "outputs": [
        {
          "output_type": "stream",
          "name": "stdout",
          "text": [
            "[2, 4]\n"
          ]
        }
      ]
    },
    {
      "cell_type": "markdown",
      "source": [
        "### `len()` ตรวจสอบจำนวนสมาชิกของ list"
      ],
      "metadata": {
        "id": "b4fXvWMo2_he"
      }
    },
    {
      "cell_type": "code",
      "source": [
        "print(list_b)  #ดูจัวเลขใน list_b\n",
        "print(len(list_b)) #ตรวจสอบจำนวนสมาชิกใน list_b"
      ],
      "metadata": {
        "id": "uuXAqCK-3V0Z",
        "outputId": "5fc03c80-0f98-47d7-f4e8-9ac752d1c852",
        "colab": {
          "base_uri": "https://localhost:8080/"
        }
      },
      "execution_count": 60,
      "outputs": [
        {
          "output_type": "stream",
          "name": "stdout",
          "text": [
            "['ab', 2, 3.14, [1, 2, 3, 4, 5, 6]]\n",
            "4\n"
          ]
        }
      ]
    },
    {
      "cell_type": "code",
      "source": [
        "len(list_a)"
      ],
      "metadata": {
        "id": "EiaHxHq63x1e",
        "outputId": "18c68e5b-f5e0-4138-d023-132f7b1d82a1",
        "colab": {
          "base_uri": "https://localhost:8080/"
        }
      },
      "execution_count": 61,
      "outputs": [
        {
          "output_type": "execute_result",
          "data": {
            "text/plain": [
              "6"
            ]
          },
          "metadata": {},
          "execution_count": 61
        }
      ]
    },
    {
      "cell_type": "markdown",
      "source": [
        "### String is a list of characters สตริงเป็นลิสของคาแรคเตอร์"
      ],
      "metadata": {
        "id": "qGcYsTi34Hzl"
      }
    },
    {
      "cell_type": "code",
      "source": [
        "st_stat = 'Department of Statistics, Faculty of Science'"
      ],
      "metadata": {
        "id": "lNCV8tVH4QB4"
      },
      "execution_count": 62,
      "outputs": []
    },
    {
      "cell_type": "code",
      "source": [
        "st_stat[10]"
      ],
      "metadata": {
        "id": "zWCkpJwj5BTn",
        "outputId": "70491dc1-de31-4ca9-86da-457c91380f7e",
        "colab": {
          "base_uri": "https://localhost:8080/",
          "height": 35
        }
      },
      "execution_count": 63,
      "outputs": [
        {
          "output_type": "execute_result",
          "data": {
            "text/plain": [
              "' '"
            ],
            "application/vnd.google.colaboratory.intrinsic+json": {
              "type": "string"
            }
          },
          "metadata": {},
          "execution_count": 63
        }
      ]
    },
    {
      "cell_type": "code",
      "source": [
        "len(st_stat)"
      ],
      "metadata": {
        "id": "zFos4rHC5Oak",
        "outputId": "9c032b20-32cf-4282-e409-337f92ccb48f",
        "colab": {
          "base_uri": "https://localhost:8080/"
        }
      },
      "execution_count": 64,
      "outputs": [
        {
          "output_type": "execute_result",
          "data": {
            "text/plain": [
              "44"
            ]
          },
          "metadata": {},
          "execution_count": 64
        }
      ]
    },
    {
      "cell_type": "markdown",
      "source": [
        "### List Slicing `:` การเฉือน list "
      ],
      "metadata": {
        "id": "JKydGTyv5hq_"
      }
    },
    {
      "cell_type": "markdown",
      "source": [
        "`list[จุดเริ่มต้น (ทึบ) : จุดสุดท้าย (โปร่ง)]`\n",
        "\n",
        "`list[จุดเริ่มต้น (ทึบ) : จุดสุดท้าย  (โปร่ง) : step]`"
      ],
      "metadata": {
        "id": "MfKW2bZ06oqn"
      }
    },
    {
      "cell_type": "markdown",
      "source": [
        "![9.webp](data:image/webp;base64,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)"
      ],
      "metadata": {
        "id": "MapxrOwI8yGA"
      }
    },
    {
      "cell_type": "code",
      "source": [
        "list_a"
      ],
      "metadata": {
        "id": "kvaINeep5vDu",
        "outputId": "5e2c0f55-c766-4212-fa4f-adfd393e7d53",
        "colab": {
          "base_uri": "https://localhost:8080/"
        }
      },
      "execution_count": 65,
      "outputs": [
        {
          "output_type": "execute_result",
          "data": {
            "text/plain": [
              "[1, 2, 3, 4, 5, 6]"
            ]
          },
          "metadata": {},
          "execution_count": 65
        }
      ]
    },
    {
      "cell_type": "code",
      "source": [
        "list_a[2] #ดูตัวที่ 2"
      ],
      "metadata": {
        "id": "tF_EIeQP54v3",
        "outputId": "9a57b949-e3cb-43d0-d4f0-8eec9ed7c2e8",
        "colab": {
          "base_uri": "https://localhost:8080/"
        }
      },
      "execution_count": 66,
      "outputs": [
        {
          "output_type": "execute_result",
          "data": {
            "text/plain": [
              "3"
            ]
          },
          "metadata": {},
          "execution_count": 66
        }
      ]
    },
    {
      "cell_type": "markdown",
      "source": [
        "#### `:` colon"
      ],
      "metadata": {
        "id": "LfI49IcmBSGf"
      }
    },
    {
      "cell_type": "code",
      "source": [
        "list_a[-3:] # : colon #เฉือน list แล้วเลือก 3 ตัวสุดท้าย"
      ],
      "metadata": {
        "id": "KFbOrU4h6L_H",
        "outputId": "551cd92f-93e2-438e-a19a-f1911bf4300a",
        "colab": {
          "base_uri": "https://localhost:8080/"
        }
      },
      "execution_count": 67,
      "outputs": [
        {
          "output_type": "execute_result",
          "data": {
            "text/plain": [
              "[4, 5, 6]"
            ]
          },
          "metadata": {},
          "execution_count": 67
        }
      ]
    },
    {
      "cell_type": "code",
      "source": [
        "list_a[:4] #จุดสุดท้ายนับลง 1 ตัว "
      ],
      "metadata": {
        "id": "vFqBcmSX-J02",
        "outputId": "d037372f-52d5-47e8-ef85-51cd3c9969e3",
        "colab": {
          "base_uri": "https://localhost:8080/"
        }
      },
      "execution_count": 70,
      "outputs": [
        {
          "output_type": "execute_result",
          "data": {
            "text/plain": [
              "[1, 2, 3, 4]"
            ]
          },
          "metadata": {},
          "execution_count": 70
        }
      ]
    },
    {
      "cell_type": "code",
      "source": [
        "list_a[1:4] #list[จุดเริ่มต้น (ทึบ) : จุดสุดท้าย (โปร่ง)] ~ จุดสุดท้ายจะถัดลงมา 1 ตัว"
      ],
      "metadata": {
        "id": "9VLbmOsH6mLe",
        "outputId": "8e592ede-1b94-48f9-e9bd-56d9d0c65a49",
        "colab": {
          "base_uri": "https://localhost:8080/"
        }
      },
      "execution_count": 69,
      "outputs": [
        {
          "output_type": "execute_result",
          "data": {
            "text/plain": [
              "[2, 3, 4]"
            ]
          },
          "metadata": {},
          "execution_count": 69
        }
      ]
    },
    {
      "cell_type": "code",
      "source": [
        "list_a[:] #เอาทุกตัว"
      ],
      "metadata": {
        "id": "jW_rSexq-hEf",
        "outputId": "eda68347-7b79-4497-dda0-bc26cf57e762",
        "colab": {
          "base_uri": "https://localhost:8080/"
        }
      },
      "execution_count": 71,
      "outputs": [
        {
          "output_type": "execute_result",
          "data": {
            "text/plain": [
              "[1, 2, 3, 4, 5, 6]"
            ]
          },
          "metadata": {},
          "execution_count": 71
        }
      ]
    },
    {
      "cell_type": "markdown",
      "source": [
        "#### step"
      ],
      "metadata": {
        "id": "Ya9rQlBp-sEm"
      }
    },
    {
      "cell_type": "code",
      "source": [
        "list_c = [1,2,3,4,5,6,7,8,9,10,11,12,13]"
      ],
      "metadata": {
        "id": "mzo8GNga-w0f"
      },
      "execution_count": 72,
      "outputs": []
    },
    {
      "cell_type": "code",
      "source": [
        "list_c[:10:] "
      ],
      "metadata": {
        "id": "w-t-ZrGu_Ah-",
        "outputId": "382c4778-3e0a-4a17-960e-b05f6c78d1ed",
        "colab": {
          "base_uri": "https://localhost:8080/"
        }
      },
      "execution_count": 75,
      "outputs": [
        {
          "output_type": "execute_result",
          "data": {
            "text/plain": [
              "[1, 2, 3, 4, 5, 6, 7, 8, 9, 10]"
            ]
          },
          "metadata": {},
          "execution_count": 75
        }
      ]
    },
    {
      "cell_type": "code",
      "source": [
        "list_c[:10:2] #step ไป 2 ขั้น"
      ],
      "metadata": {
        "id": "WtDrS3NW_TDW",
        "outputId": "172f1b4c-b5da-4eeb-d6da-1485ab8381f3",
        "colab": {
          "base_uri": "https://localhost:8080/"
        }
      },
      "execution_count": 76,
      "outputs": [
        {
          "output_type": "execute_result",
          "data": {
            "text/plain": [
              "[1, 3, 5, 7, 9]"
            ]
          },
          "metadata": {},
          "execution_count": 76
        }
      ]
    },
    {
      "cell_type": "code",
      "source": [
        "list_c[: : -1] #step จากหลังมาหน้า "
      ],
      "metadata": {
        "id": "5iNsMfqSAXSu",
        "outputId": "990def1b-6c06-4999-ec18-758254c9c905",
        "colab": {
          "base_uri": "https://localhost:8080/"
        }
      },
      "execution_count": 79,
      "outputs": [
        {
          "output_type": "execute_result",
          "data": {
            "text/plain": [
              "[13, 12, 11, 10, 9, 8, 7, 6, 5, 4, 3, 2, 1]"
            ]
          },
          "metadata": {},
          "execution_count": 79
        }
      ]
    },
    {
      "cell_type": "markdown",
      "source": [
        "### `range()` เรียงจำนวนกี่ตัวก็ได้ วนลูป"
      ],
      "metadata": {
        "id": "mQeU50y0Bjuv"
      }
    },
    {
      "cell_type": "code",
      "source": [
        "range(21)"
      ],
      "metadata": {
        "id": "U50mJe4tB96e",
        "outputId": "c3ab5ea2-8304-4f58-ae5b-a4de958455b4",
        "colab": {
          "base_uri": "https://localhost:8080/"
        }
      },
      "execution_count": 83,
      "outputs": [
        {
          "output_type": "execute_result",
          "data": {
            "text/plain": [
              "range(0, 21)"
            ]
          },
          "metadata": {},
          "execution_count": 83
        }
      ]
    },
    {
      "cell_type": "code",
      "source": [
        "a = list(range(21)) #เรียงตัวเลข 21 ตัว 0-21"
      ],
      "metadata": {
        "id": "Sop4gjsGBtGF"
      },
      "execution_count": 80,
      "outputs": []
    },
    {
      "cell_type": "code",
      "source": [
        "a"
      ],
      "metadata": {
        "id": "oRRA_5LRB6xg",
        "outputId": "862a2ef3-de65-467d-dbc0-177c47ba174d",
        "colab": {
          "base_uri": "https://localhost:8080/"
        }
      },
      "execution_count": 81,
      "outputs": [
        {
          "output_type": "execute_result",
          "data": {
            "text/plain": [
              "[0, 1, 2, 3, 4, 5, 6, 7, 8, 9, 10, 11, 12, 13, 14, 15, 16, 17, 18, 19, 20]"
            ]
          },
          "metadata": {},
          "execution_count": 81
        }
      ]
    },
    {
      "cell_type": "code",
      "source": [
        "list(range(1,21)) #เรียงตัวเลขเอาตั้งแต่เลข 1-21"
      ],
      "metadata": {
        "id": "VAkj22q0CdiB",
        "outputId": "7456ddc5-4743-4eb6-ec6c-b0cb3003a6c6",
        "colab": {
          "base_uri": "https://localhost:8080/"
        }
      },
      "execution_count": 85,
      "outputs": [
        {
          "output_type": "execute_result",
          "data": {
            "text/plain": [
              "[1, 2, 3, 4, 5, 6, 7, 8, 9, 10, 11, 12, 13, 14, 15, 16, 17, 18, 19, 20]"
            ]
          },
          "metadata": {},
          "execution_count": 85
        }
      ]
    }
  ]
}