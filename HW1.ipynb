{
  "nbformat": 4,
  "nbformat_minor": 0,
  "metadata": {
    "colab": {
      "name": "HW1.ipynb",
      "provenance": [],
      "authorship_tag": "ABX9TyPXLXZBqyBSXhB2Z6uaibS3",
      "include_colab_link": true
    },
    "kernelspec": {
      "name": "python3",
      "display_name": "Python 3"
    },
    "language_info": {
      "name": "python"
    }
  },
  "cells": [
    {
      "cell_type": "markdown",
      "metadata": {
        "id": "view-in-github",
        "colab_type": "text"
      },
      "source": [
        "<a href=\"https://colab.research.google.com/github/Suriya6744/BasicProg_DataViz65/blob/main/HW1.ipynb\" target=\"_parent\"><img src=\"https://colab.research.google.com/assets/colab-badge.svg\" alt=\"Open In Colab\"/></a>"
      ]
    },
    {
      "cell_type": "markdown",
      "source": [
        "#HW1\n",
        "\n",
        "เขียน function แสดงความต่างของเวลา (Quiz1) โดย input อยู่ในรูปแบบ '09:11:50 - 12:30:15'\n",
        "\n",
        "และทดลองรัน\n",
        "\n",
        "* '09:11:50 - 12:30:15'\n",
        "* '13:41:07 - 20:00:18'\n",
        "* '00:00:00 - 23:59:59'"
      ],
      "metadata": {
        "id": "uRUVNFcDH5mv"
      }
    },
    {
      "cell_type": "code",
      "source": [
        "#ข้อ1 '09:11:50 - 12:30:15'\n",
        "def time_1(a1,b1,c1,a2,b2,c2):\n",
        "    answer = ((a2*3600) + (b2*60) + c2) - ((a1*60*60) + (b1*60) + c1)\n",
        "    return answer\n",
        "print(f'ความต่างของเวลาตั้งแต่ 09:11:50 ถึง 12:30:15 คือ {time_1(9,11,50,12,30,15):,} วินาที')"
      ],
      "metadata": {
        "colab": {
          "base_uri": "https://localhost:8080/"
        },
        "id": "CFa3lsd0H78B",
        "outputId": "a570bd47-f6c1-4aa0-fc7e-4b75b0fec655"
      },
      "execution_count": 7,
      "outputs": [
        {
          "output_type": "stream",
          "name": "stdout",
          "text": [
            "ความต่างของเวลาตั้งแต่ 09:11:50 ถึง 12:30:15 คือ 11,905 วินาที\n"
          ]
        }
      ]
    },
    {
      "cell_type": "code",
      "source": [
        "#ข้อ2 '13:41:07 - 20:00:18'\n",
        "def time_2(d1,e1,f1,d2,e2,f2):\n",
        "    answer = ((d2*3600) + (e2*60) + f2) - ((d1*60*60) + (e1*60) + f1)\n",
        "    return answer\n",
        "print(f'ความต่างของเวลาตั้งแต่ 13:41:07 ถึง 20:00:18 คือ {time_2(13,41,7,20,0,18):,} วินาที')"
      ],
      "metadata": {
        "colab": {
          "base_uri": "https://localhost:8080/"
        },
        "id": "21hSW7dSH-5F",
        "outputId": "8208ec77-c569-466b-b7b9-b807373058dc"
      },
      "execution_count": 8,
      "outputs": [
        {
          "output_type": "stream",
          "name": "stdout",
          "text": [
            "ความต่างของเวลาตั้งแต่ 13:41:07 ถึง 20:00:18 คือ 22,751 วินาที\n"
          ]
        }
      ]
    },
    {
      "cell_type": "code",
      "source": [
        "#ข้อ3 '00:00:00 - 23:59:59'\n",
        "def time_3(g1,h1,i1,g2,h2,i2):\n",
        "    answer= ((g2*3600) + (h2*60) + i2) - ((g1*60*60) + (h1*60) + i1)\n",
        "    return answer\n",
        "print(f'ความต่างของเวลาตั้งแต่ 00:00:00 ถึง 23:59:59 คือ {time_3(0,0,0,23,59,59):,} วินาที')"
      ],
      "metadata": {
        "colab": {
          "base_uri": "https://localhost:8080/"
        },
        "id": "z6DjGh-QIfXh",
        "outputId": "4127bcfd-3efb-4a5c-b41a-55b237c5dd7d"
      },
      "execution_count": 9,
      "outputs": [
        {
          "output_type": "stream",
          "name": "stdout",
          "text": [
            "ความต่างของเวลาตั้งแต่ 00:00:00 ถึง 23:59:59 คือ 86,399 วินาที\n"
          ]
        }
      ]
    }
  ]
}