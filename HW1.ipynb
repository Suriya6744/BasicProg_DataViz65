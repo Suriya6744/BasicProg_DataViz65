{
  "nbformat": 4,
  "nbformat_minor": 0,
  "metadata": {
    "colab": {
      "name": "HW1.ipynb",
      "provenance": [],
      "include_colab_link": true
    },
    "kernelspec": {
      "name": "python3",
      "display_name": "Python 3"
    },
    "language_info": {
      "name": "python"
    }
  },
  "cells": [
    {
      "cell_type": "markdown",
      "metadata": {
        "id": "view-in-github",
        "colab_type": "text"
      },
      "source": [
        "<a href=\"https://colab.research.google.com/github/Suriya6744/BasicProg_DataViz65/blob/main/HW1.ipynb\" target=\"_parent\"><img src=\"https://colab.research.google.com/assets/colab-badge.svg\" alt=\"Open In Colab\"/></a>"
      ]
    },
    {
      "cell_type": "markdown",
      "source": [
        "#HW1\n",
        "\n",
        "เขียน function แสดงความต่างของเวลา (Quiz1) โดย input อยู่ในรูปแบบ '09:11:50 - 12:30:15'\n",
        "\n",
        "และทดลองรัน\n",
        "\n",
        "* '09:11:50 - 12:30:15'\n",
        "* '13:41:07 - 20:00:18'\n",
        "* '00:00:00 - 23:59:59'"
      ],
      "metadata": {
        "id": "uRUVNFcDH5mv"
      }
    },
    {
      "cell_type": "code",
      "source": [
        "#ข้อ1 '09:11:50 - 12:30:15'\n",
        "def time_1(a1,b1,c1,a2,b2,c2):\n",
        "    answer = ((a2*3600) + (b2*60) + c2) - ((a1*60*60) + (b1*60) + c1)\n",
        "    return answer\n",
        "print(f'ความต่างของเวลาตั้งแต่ 09:11:50 ถึง 12:30:15 คือ {time_1(9,11,50,12,30,15):,} วินาที')"
      ],
      "metadata": {
        "colab": {
          "base_uri": "https://localhost:8080/"
        },
        "id": "CFa3lsd0H78B",
        "outputId": "a570bd47-f6c1-4aa0-fc7e-4b75b0fec655"
      },
      "execution_count": null,
      "outputs": [
        {
          "output_type": "stream",
          "name": "stdout",
          "text": [
            "ความต่างของเวลาตั้งแต่ 09:11:50 ถึง 12:30:15 คือ 11,905 วินาที\n"
          ]
        }
      ]
    },
    {
      "cell_type": "code",
      "source": [
        "#ข้อ2 '13:41:07 - 20:00:18'\n",
        "def time_2(d1,e1,f1,d2,e2,f2):\n",
        "    answer = ((d2*3600) + (e2*60) + f2) - ((d1*60*60) + (e1*60) + f1)\n",
        "    return answer\n",
        "print(f'ความต่างของเวลาตั้งแต่ 13:41:07 ถึง 20:00:18 คือ {time_2(13,41,7,20,0,18):,} วินาที')"
      ],
      "metadata": {
        "colab": {
          "base_uri": "https://localhost:8080/"
        },
        "id": "21hSW7dSH-5F",
        "outputId": "8208ec77-c569-466b-b7b9-b807373058dc"
      },
      "execution_count": null,
      "outputs": [
        {
          "output_type": "stream",
          "name": "stdout",
          "text": [
            "ความต่างของเวลาตั้งแต่ 13:41:07 ถึง 20:00:18 คือ 22,751 วินาที\n"
          ]
        }
      ]
    },
    {
      "cell_type": "code",
      "source": [
        "#ข้อ3 '00:00:00 - 23:59:59'\n",
        "def time_3(g1,h1,i1,g2,h2,i2):\n",
        "    answer= ((g2*3600) + (h2*60) + i2) - ((g1*60*60) + (h1*60) + i1)\n",
        "    return answer\n",
        "print(f'ความต่างของเวลาตั้งแต่ 00:00:00 ถึง 23:59:59 คือ {time_3(0,0,0,23,59,59):,} วินาที')"
      ],
      "metadata": {
        "colab": {
          "base_uri": "https://localhost:8080/"
        },
        "id": "z6DjGh-QIfXh",
        "outputId": "4127bcfd-3efb-4a5c-b41a-55b237c5dd7d"
      },
      "execution_count": null,
      "outputs": [
        {
          "output_type": "stream",
          "name": "stdout",
          "text": [
            "ความต่างของเวลาตั้งแต่ 00:00:00 ถึง 23:59:59 คือ 86,399 วินาที\n"
          ]
        }
      ]
    },
    {
      "cell_type": "markdown",
      "source": [
        "## อาจารย์พาเฉลย HW1"
      ],
      "metadata": {
        "id": "1gcn-hHx3w_l"
      }
    },
    {
      "cell_type": "code",
      "source": [
        "input = '09:11:50 - 12:30:15'\n",
        "input"
      ],
      "metadata": {
        "id": "H8x2TJCW4qXU",
        "outputId": "f23834e8-c5ec-4296-9d9e-384229aaa1ce",
        "colab": {
          "base_uri": "https://localhost:8080/",
          "height": 35
        }
      },
      "execution_count": 2,
      "outputs": [
        {
          "output_type": "execute_result",
          "data": {
            "text/plain": [
              "'09:11:50 - 12:30:15'"
            ],
            "application/vnd.google.colaboratory.intrinsic+json": {
              "type": "string"
            }
          },
          "metadata": {},
          "execution_count": 2
        }
      ]
    },
    {
      "cell_type": "code",
      "source": [
        "input_split =input.split('-')\n",
        "input_split"
      ],
      "metadata": {
        "id": "EuhcM74743Nt",
        "outputId": "af27255d-25a1-49ff-ddee-e1ed142bda4c",
        "colab": {
          "base_uri": "https://localhost:8080/"
        }
      },
      "execution_count": 4,
      "outputs": [
        {
          "output_type": "execute_result",
          "data": {
            "text/plain": [
              "['09:11:50 ', ' 12:30:15']"
            ]
          },
          "metadata": {},
          "execution_count": 4
        }
      ]
    },
    {
      "cell_type": "code",
      "source": [
        "starttimeSP = input_split[0].split (' : ')\n",
        "endtimeSP = input_split[-1].split (' : ')\n",
        "print(starttimeSP, endtimeSP, sep='\\n')"
      ],
      "metadata": {
        "id": "eDUV10re5F6-",
        "outputId": "890186ff-e271-41c9-bf82-6f7d7ca6bedc",
        "colab": {
          "base_uri": "https://localhost:8080/"
        }
      },
      "execution_count": 10,
      "outputs": [
        {
          "output_type": "stream",
          "name": "stdout",
          "text": [
            "['09:11:50 ']\n",
            "[' 12:30:15']\n"
          ]
        }
      ]
    },
    {
      "cell_type": "code",
      "source": [
        "def calculate_time(input):\n",
        "    input_split = input.split(' - ')\n",
        "    starttimeSP = input_split[0].split(':')\n",
        "    endtimeSP = input_split[-1].split(':')\n",
        "\n",
        "    starttime = 3600*int(starttimeSP[0]) + 60*int(starttimeSP[1]) + int(starttimeSP[2])\n",
        "    endtime = 3600*int(endtimeSP[0]) + 60*int(endtimeSP[1]) + int(endtimeSP[2])\n",
        "\n",
        "    print(f'ระยะเวลาระหว่าง {input_split[0]} และ {input_split[1]} ห่างกันเท่ากับ {endtime-starttime:,} วินาที')"
      ],
      "metadata": {
        "id": "-EmgJmPe6_xc"
      },
      "execution_count": 20,
      "outputs": []
    },
    {
      "cell_type": "code",
      "source": [
        "calculate_time('09:11:50 - 12:30:15')"
      ],
      "metadata": {
        "id": "YpAuk2R9HLNI",
        "outputId": "2a040d51-78b6-43f3-d0e9-3a93df5729bf",
        "colab": {
          "base_uri": "https://localhost:8080/"
        }
      },
      "execution_count": 21,
      "outputs": [
        {
          "output_type": "stream",
          "name": "stdout",
          "text": [
            "ระยะเวลาระหว่าง 09:11:50 และ 12:30:15 ห่างกันเท่ากับ 11,905 วินาที\n"
          ]
        }
      ]
    },
    {
      "cell_type": "code",
      "source": [
        "calculate_time('13:41:07 - 20:00:18')"
      ],
      "metadata": {
        "id": "q-zXmSa4HOAE",
        "outputId": "440cb39f-a064-4b8e-8752-cabec8bac95f",
        "colab": {
          "base_uri": "https://localhost:8080/"
        }
      },
      "execution_count": 22,
      "outputs": [
        {
          "output_type": "stream",
          "name": "stdout",
          "text": [
            "ระยะเวลาระหว่าง 13:41:07 และ 20:00:18 ห่างกันเท่ากับ 22,751 วินาที\n"
          ]
        }
      ]
    }
  ]
}