{
  "nbformat": 4,
  "nbformat_minor": 0,
  "metadata": {
    "colab": {
      "name": "Recap 1-3 Quiz1.ipynb",
      "provenance": [],
      "include_colab_link": true
    },
    "kernelspec": {
      "name": "python3",
      "display_name": "Python 3"
    },
    "language_info": {
      "name": "python"
    }
  },
  "cells": [
    {
      "cell_type": "markdown",
      "metadata": {
        "id": "view-in-github",
        "colab_type": "text"
      },
      "source": [
        "<a href=\"https://colab.research.google.com/github/Suriya6744/BasicProg_DataViz65/blob/main/Recap_1_3_Quiz1.ipynb\" target=\"_parent\"><img src=\"https://colab.research.google.com/assets/colab-badge.svg\" alt=\"Open In Colab\"/></a>"
      ]
    },
    {
      "cell_type": "markdown",
      "source": [
        "Quiz 1 \n",
        "\n",
        "คำนวณเวลาเป็นความต่างของเวลาเป็นวินาทีของช่วงเวลาต่อไปนี้โดยใช้คำสั่ง split() ช่วย และ print ออกมาให้สวยงาม\n",
        "\n",
        "* 09:11:50 - 12:30:15\n",
        "* 13:41:07 - 20:00:18\n",
        "* 21:30:15 - 00:00:00\n",
        "* 00:00:00 - 23:59:59\n",
        "\n",
        "\n",
        "\n",
        "\n",
        "\n"
      ],
      "metadata": {
        "id": "FKKg2s03yfKC"
      }
    },
    {
      "cell_type": "code",
      "execution_count": 5,
      "metadata": {
        "id": "JHgL5URByL6e",
        "outputId": "2ebeb303-f72a-4332-fbf0-1b3146676abc",
        "colab": {
          "base_uri": "https://localhost:8080/"
        }
      },
      "outputs": [
        {
          "output_type": "stream",
          "name": "stdout",
          "text": [
            "ความต่างของเวลาตั้งแต่ 09:11:50 ถึง 12:30:15 คือ 11905 วินาที\n"
          ]
        }
      ],
      "source": [
        "A = (9*60*60)+(11*60)+50\n",
        "B = (12*60*60)+(30*60)+15\n",
        "print(f'ความต่างของเวลาตั้งแต่ 09:11:50 ถึง 12:30:15 คือ {B-A} วินาที')"
      ]
    },
    {
      "cell_type": "code",
      "source": [
        "C = (13*60*60)+(41*60)+7\n",
        "D = (20*60*60)+(0*60)+18\n",
        "print(f'ความต่างของเวลาตั้งแต่ 13:41:07 ถึง 20:00:18 คือ {D-C} วินาที')"
      ],
      "metadata": {
        "id": "GO8idv0UiUkd",
        "outputId": "3d74b65e-2b18-48f6-f2a9-280bfb9bdbb9",
        "colab": {
          "base_uri": "https://localhost:8080/"
        }
      },
      "execution_count": 20,
      "outputs": [
        {
          "output_type": "stream",
          "name": "stdout",
          "text": [
            "ความต่างของเวลาตั้งแต่ 13:41:07 ถึง 20:00:18 คือ 22751 วินาที\n"
          ]
        }
      ]
    },
    {
      "cell_type": "code",
      "source": [
        "E = (21*60*60)+(30*60)+15\n",
        "F = (24*60*60)+(0*60)+0\n",
        "print(f'ความต่างของเวลาตั้งแต่ 21:30:15  ถึง 00:00:00 คือ {F-E} วินาที')"
      ],
      "metadata": {
        "id": "6gsJsXotlF49",
        "outputId": "fa64c5a4-c279-4d80-c387-9b2e4018cb6f",
        "colab": {
          "base_uri": "https://localhost:8080/"
        }
      },
      "execution_count": 19,
      "outputs": [
        {
          "output_type": "stream",
          "name": "stdout",
          "text": [
            "ความต่างของเวลาตั้งแต่ 21:30:15  ถึง 00:00:00 คือ 8985 วินาที\n"
          ]
        }
      ]
    },
    {
      "cell_type": "code",
      "source": [
        "G =  (0*60*60)+(0*60)+0\n",
        "H = (23*60*60)+(59*60)+59\n",
        "print(f'ความต่างของเวลาตั้งแต่ 00:00:00 ถึง 23:59:59 วินาที คือ {H-G} วินาที')"
      ],
      "metadata": {
        "id": "FtRYLozdliMB",
        "outputId": "d75da80b-da2c-4fd6-a6e6-2e24ea807b66",
        "colab": {
          "base_uri": "https://localhost:8080/"
        }
      },
      "execution_count": 18,
      "outputs": [
        {
          "output_type": "stream",
          "name": "stdout",
          "text": [
            "ความต่างของเวลาตั้งแต่ 00:00:00 ถึง 23:59:59 วินาที คือ 86399 วินาที\n"
          ]
        }
      ]
    }
  ]
}