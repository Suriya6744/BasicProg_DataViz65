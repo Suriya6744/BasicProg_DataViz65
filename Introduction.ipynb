{
  "nbformat": 4,
  "nbformat_minor": 0,
  "metadata": {
    "colab": {
      "name": "Introduction.ipynb",
      "provenance": [],
      "authorship_tag": "ABX9TyMXSXuAYOnpe8QUU41TV8xS",
      "include_colab_link": true
    },
    "kernelspec": {
      "name": "python3",
      "display_name": "Python 3"
    },
    "language_info": {
      "name": "python"
    }
  },
  "cells": [
    {
      "cell_type": "markdown",
      "metadata": {
        "id": "view-in-github",
        "colab_type": "text"
      },
      "source": [
        "<a href=\"https://colab.research.google.com/github/Suriya6744/BasicProg_DataViz65/blob/main/Introduction.ipynb\" target=\"_parent\"><img src=\"https://colab.research.google.com/assets/colab-badge.svg\" alt=\"Open In Colab\"/></a>"
      ]
    },
    {
      "cell_type": "code",
      "execution_count": null,
      "metadata": {
        "id": "lxH_yCLYFL3v"
      },
      "outputs": [],
      "source": [
        ""
      ]
    },
    {
      "cell_type": "markdown",
      "source": [
        "สุริยา ปันดอน"
      ],
      "metadata": {
        "id": "U-HG1JvqFbqD"
      }
    },
    {
      "cell_type": "markdown",
      "source": [
        "#markdawn\n",
        "https://www.markdownguide.org"
      ],
      "metadata": {
        "id": "bzDevcQcF_uO"
      }
    },
    {
      "cell_type": "markdown",
      "source": [
        "##heading"
      ],
      "metadata": {
        "id": "dVaF_MXqGamL"
      }
    },
    {
      "cell_type": "code",
      "source": [
        "print(\"Suriya \")"
      ],
      "metadata": {
        "colab": {
          "base_uri": "https://localhost:8080/"
        },
        "id": "wwOqjuTWHTVt",
        "outputId": "fa461eda-9f35-46cd-b45c-bf1d59d93321"
      },
      "execution_count": 1,
      "outputs": [
        {
          "output_type": "stream",
          "name": "stdout",
          "text": [
            "Suriya \n"
          ]
        }
      ]
    }
  ]
}