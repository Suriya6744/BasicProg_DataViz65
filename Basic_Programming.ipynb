{
  "nbformat": 4,
  "nbformat_minor": 0,
  "metadata": {
    "colab": {
      "name": "Basic Programming.ipynb",
      "provenance": [],
      "authorship_tag": "ABX9TyPVe31zBO0Tx5WIvplW2aL8",
      "include_colab_link": true
    },
    "kernelspec": {
      "name": "python3",
      "display_name": "Python 3"
    },
    "language_info": {
      "name": "python"
    }
  },
  "cells": [
    {
      "cell_type": "markdown",
      "metadata": {
        "id": "view-in-github",
        "colab_type": "text"
      },
      "source": [
        "<a href=\"https://colab.research.google.com/github/Suriya6744/BasicProg_DataViz65/blob/main/Basic_Programming.ipynb\" target=\"_parent\"><img src=\"https://colab.research.google.com/assets/colab-badge.svg\" alt=\"Open In Colab\"/></a>"
      ]
    },
    {
      "cell_type": "markdown",
      "source": [
        "# Function ($f(x)$ = $y$)\n",
        "\n"
      ],
      "metadata": {
        "id": "d0Fc4pn5Rppq"
      }
    },
    {
      "cell_type": "markdown",
      "source": [
        "```python\n",
        "def function_name( input_x ) :\n",
        "    # do something with input_x to get output_y\n",
        "    return output_y\n",
        "```\n"
      ],
      "metadata": {
        "id": "dpSEvgxNSvuP"
      }
    },
    {
      "cell_type": "markdown",
      "source": [
        "$f_1(x) = x^2 + 75$"
      ],
      "metadata": {
        "id": "rNDca9VTUzwD"
      }
    },
    {
      "cell_type": "code",
      "source": [
        "def function_f1(x):\n",
        "    a = x**2     # ** คือยกกำลัง\n",
        "    y = a +75\n",
        "    return y\n",
        "\n",
        "print('done!') #ไม่เยื้องแสดงว่าไม่อยู่ในฟังก์ชัน จะไม่แสดงผล"
      ],
      "metadata": {
        "colab": {
          "base_uri": "https://localhost:8080/"
        },
        "id": "addFN3UZSXN4",
        "outputId": "6db5e5b7-ba03-406d-ee56-e4abc006f80d"
      },
      "execution_count": null,
      "outputs": [
        {
          "output_type": "stream",
          "name": "stdout",
          "text": [
            "done!\n"
          ]
        }
      ]
    },
    {
      "cell_type": "code",
      "source": [
        "function_f1(3)"
      ],
      "metadata": {
        "colab": {
          "base_uri": "https://localhost:8080/"
        },
        "id": "u3IZIdFSVaWN",
        "outputId": "da11d894-e521-495f-eff6-3e7048b1b03b"
      },
      "execution_count": null,
      "outputs": [
        {
          "output_type": "execute_result",
          "data": {
            "text/plain": [
              "84"
            ]
          },
          "metadata": {},
          "execution_count": 5
        }
      ]
    },
    {
      "cell_type": "markdown",
      "source": [
        "function มีส่วนสำคัญทั้งหมวด 4 ส่วน\n",
        "\n",
        "1. บอก python ว่าเราจะเขียนฟังก์ชันก์ ชื่ออะไร `def function_name ()` : (ขาดไม่ได้)\n",
        "2. กำหนดตัวแปรที่จะเป็น input _input_ (ขาดได้)\n",
        "3. ส่วนประมวลผล do_something with _Input_ to get _Output_ (ขาดไม่ได้)\n",
        "4. ส่วน output `return` _Output_ (ขาดได้)"
      ],
      "metadata": {
        "id": "g5WYo4EBAMNd"
      }
    },
    {
      "cell_type": "markdown",
      "source": [
        "### ตัวอย่าง Function ที่มีส่วนประกอบครบ"
      ],
      "metadata": {
        "id": "SpGxdjEUuxnf"
      }
    },
    {
      "cell_type": "code",
      "source": [
        "def function_f1(x):\n",
        "    a = x**2     # ** คือยกกำลัง\n",
        "    y = a +75\n",
        "    return y"
      ],
      "metadata": {
        "id": "6TEhXy7BC3Tr"
      },
      "execution_count": null,
      "outputs": []
    },
    {
      "cell_type": "markdown",
      "source": [
        "### ตัวอย่าง Function ที่ไม่มี Input"
      ],
      "metadata": {
        "id": "qzcDRhb0vB-0"
      }
    },
    {
      "cell_type": "code",
      "source": [
        "def pi_v():\n",
        "    y = 3.14159265359\n",
        "    return y"
      ],
      "metadata": {
        "id": "rcY1GokfvIhb"
      },
      "execution_count": null,
      "outputs": []
    },
    {
      "cell_type": "code",
      "source": [
        "piv = pi_v()\n",
        "circle_area_r2 = piv*(2**2)\n",
        "print(circle_area_r2)"
      ],
      "metadata": {
        "id": "Ub85XrMrvq0Q",
        "outputId": "bb21b0ed-20bc-45f6-dbc7-d7c467db4cec",
        "colab": {
          "base_uri": "https://localhost:8080/"
        }
      },
      "execution_count": null,
      "outputs": [
        {
          "output_type": "stream",
          "name": "stdout",
          "text": [
            "12.56637061436\n"
          ]
        }
      ]
    },
    {
      "cell_type": "markdown",
      "source": [
        "### Function ไม่มี Process ไม่ได้"
      ],
      "metadata": {
        "id": "ReI8Hx10wjsI"
      }
    },
    {
      "cell_type": "code",
      "source": [
        "def function_a(): "
      ],
      "metadata": {
        "id": "9AoLVgO1wcbs",
        "outputId": "084fda31-1bd2-4e58-9f2b-b6b5ab9f233a",
        "colab": {
          "base_uri": "https://localhost:8080/",
          "height": 132
        }
      },
      "execution_count": null,
      "outputs": [
        {
          "output_type": "error",
          "ename": "SyntaxError",
          "evalue": "ignored",
          "traceback": [
            "\u001b[0;36m  File \u001b[0;32m\"<ipython-input-7-07a0750214a8>\"\u001b[0;36m, line \u001b[0;32m1\u001b[0m\n\u001b[0;31m    def function_a():\u001b[0m\n\u001b[0m                     ^\u001b[0m\n\u001b[0;31mSyntaxError\u001b[0m\u001b[0;31m:\u001b[0m unexpected EOF while parsing\n"
          ]
        }
      ]
    },
    {
      "cell_type": "markdown",
      "source": [
        "### ตัวอย่าง Function ที่ไม่มี Output"
      ],
      "metadata": {
        "id": "EQlRFi-Swugb"
      }
    },
    {
      "cell_type": "code",
      "source": [
        "def print_name_id(name,id):\n",
        "    print(f'ชื่อ {name} รหัสประจำตัว {id}')"
      ],
      "metadata": {
        "id": "2UrWXt0qw5KN"
      },
      "execution_count": null,
      "outputs": []
    },
    {
      "cell_type": "code",
      "source": [
        "print_name_id('สุริยา','633020554-4')"
      ],
      "metadata": {
        "id": "xIlIlwMixdR9",
        "outputId": "9d158c44-4a9e-4f04-af48-6ff79e2d17d3",
        "colab": {
          "base_uri": "https://localhost:8080/"
        }
      },
      "execution_count": null,
      "outputs": [
        {
          "output_type": "stream",
          "name": "stdout",
          "text": [
            "ชื่อ สุริยา รหัสประจำตัว 633020554-4\n"
          ]
        }
      ]
    },
    {
      "cell_type": "code",
      "source": [
        "a = print_name_id('สุริยา','633020554-4')"
      ],
      "metadata": {
        "id": "8dEcFzRMy764",
        "outputId": "956c315d-0e46-425f-a7bb-f06416247c96",
        "colab": {
          "base_uri": "https://localhost:8080/"
        }
      },
      "execution_count": null,
      "outputs": [
        {
          "output_type": "stream",
          "name": "stdout",
          "text": [
            "ชื่อ สุริยา รหัสประจำตัว 633020554-4\n"
          ]
        }
      ]
    },
    {
      "cell_type": "code",
      "source": [
        "a"
      ],
      "metadata": {
        "id": "a3F2aadty_JV"
      },
      "execution_count": null,
      "outputs": []
    },
    {
      "cell_type": "markdown",
      "source": [
        "ตัวอย่าง Function `print` https://www.programiz.com/python-programming/methods/built-in/print"
      ],
      "metadata": {
        "id": "8-fef6ZS0XC7"
      }
    },
    {
      "cell_type": "code",
      "source": [
        "print('สุริยา',end = ' -> ')\n",
        "print('633020554-4')"
      ],
      "metadata": {
        "id": "OoWOh5GN05Xo",
        "outputId": "bb032945-6263-4071-8be7-8fecefa1697f",
        "colab": {
          "base_uri": "https://localhost:8080/"
        }
      },
      "execution_count": null,
      "outputs": [
        {
          "output_type": "stream",
          "name": "stdout",
          "text": [
            "สุริยา -> 633020554-4\n"
          ]
        }
      ]
    },
    {
      "cell_type": "code",
      "source": [
        "print('สวัสดี',end = '  ')\n",
        "print('hello')"
      ],
      "metadata": {
        "id": "zb8L_IlMReFo",
        "outputId": "680fdef9-6bcc-4a94-adbd-42bc2973d133",
        "colab": {
          "base_uri": "https://localhost:8080/"
        }
      },
      "execution_count": 5,
      "outputs": [
        {
          "output_type": "stream",
          "name": "stdout",
          "text": [
            "สวัสดี  hello\n"
          ]
        }
      ]
    },
    {
      "cell_type": "code",
      "source": [
        "print('สุริยา','633020554-4')"
      ],
      "metadata": {
        "id": "dh-eKlN51jUd",
        "outputId": "5ae0559b-8c66-4ed0-b9e9-0947696f1002",
        "colab": {
          "base_uri": "https://localhost:8080/"
        }
      },
      "execution_count": null,
      "outputs": [
        {
          "output_type": "stream",
          "name": "stdout",
          "text": [
            "สุริยา 633020554-4\n"
          ]
        }
      ]
    },
    {
      "cell_type": "code",
      "source": [
        "print('สุริยา','633020554-4',sep=' & ') #sep ไม่ใส่ก็ได้"
      ],
      "metadata": {
        "id": "gIe6xmrV1ntb",
        "outputId": "0aa59681-5953-48b2-c8dc-db0f2445a3c5",
        "colab": {
          "base_uri": "https://localhost:8080/"
        }
      },
      "execution_count": null,
      "outputs": [
        {
          "output_type": "stream",
          "name": "stdout",
          "text": [
            "สุริยา & 633020554-4\n"
          ]
        }
      ]
    },
    {
      "cell_type": "markdown",
      "source": [
        "### Input ของ Function แบ่งเป็น 2 ชนิด (จำเป็นต้องใส่ หรือ ไม่จำเป็นต้องใส่)"
      ],
      "metadata": {
        "id": "CYFcni9z2d7e"
      }
    },
    {
      "cell_type": "markdown",
      "source": [
        "ตัวอย่าง Function `print_grade()` มี Input 3 ตัว จำเป็นต้องใส่ 2 ตัว คือ name กับ id และไม่จำเป็นต้องใส่ 1 ตัว คือเกรด ซึ่งมีค่า default เป็น F"
      ],
      "metadata": {
        "id": "n6rS5Shn3m_9"
      }
    },
    {
      "cell_type": "code",
      "source": [
        "def print_grade(name,id,grade=' A '):\n",
        "    print(f'รหัสประจำตัว {id} ชื่อ {name}')\n",
        "    print(f'ได้เกรด {grade}')"
      ],
      "metadata": {
        "id": "LlC0DzUw2tVy"
      },
      "execution_count": 1,
      "outputs": []
    },
    {
      "cell_type": "code",
      "source": [
        "print_grade('นายสุริยา ปันดอน','633020554-4') #ใส่ชื่อ Input ตามนิยามการเขียนฟังก์ชัน"
      ],
      "metadata": {
        "id": "IwmJWIQp3ccm",
        "outputId": "6e5d2ff7-dec3-45f6-8a78-a50c96af798a",
        "colab": {
          "base_uri": "https://localhost:8080/"
        }
      },
      "execution_count": 2,
      "outputs": [
        {
          "output_type": "stream",
          "name": "stdout",
          "text": [
            "รหัสประจำตัว 633020554-4 ชื่อ นายสุริยา ปันดอน\n",
            "ได้เกรด  A \n"
          ]
        }
      ]
    },
    {
      "cell_type": "code",
      "source": [
        "print_grade(id='633020554-4',name='นายสุริยา ปันดอน',grade = 'A++') #ใส่ชื่อ Input ไปเลย"
      ],
      "metadata": {
        "id": "eCC5Pf_K46aI",
        "outputId": "5df9b1b7-e384-47cb-d6e8-b2ab829ce7ff",
        "colab": {
          "base_uri": "https://localhost:8080/"
        }
      },
      "execution_count": 3,
      "outputs": [
        {
          "output_type": "stream",
          "name": "stdout",
          "text": [
            "รหัสประจำตัว 633020554-4 ชื่อ นายสุริยา ปันดอน\n",
            "ได้เกรด A++\n"
          ]
        }
      ]
    },
    {
      "cell_type": "markdown",
      "source": [
        "# Looping"
      ],
      "metadata": {
        "id": "JKjy1xjGR9iT"
      }
    },
    {
      "cell_type": "markdown",
      "source": [
        "# Conditional Statment (if)"
      ],
      "metadata": {
        "id": "1GSzdd8WSAW3"
      }
    }
  ]
}