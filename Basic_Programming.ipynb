{
  "nbformat": 4,
  "nbformat_minor": 0,
  "metadata": {
    "colab": {
      "name": "Basic Programming.ipynb",
      "provenance": [],
      "authorship_tag": "ABX9TyOmwfpFUc8qcQWGWeJFqDiB",
      "include_colab_link": true
    },
    "kernelspec": {
      "name": "python3",
      "display_name": "Python 3"
    },
    "language_info": {
      "name": "python"
    }
  },
  "cells": [
    {
      "cell_type": "markdown",
      "metadata": {
        "id": "view-in-github",
        "colab_type": "text"
      },
      "source": [
        "<a href=\"https://colab.research.google.com/github/Suriya6744/BasicProg_DataViz65/blob/main/Basic_Programming.ipynb\" target=\"_parent\"><img src=\"https://colab.research.google.com/assets/colab-badge.svg\" alt=\"Open In Colab\"/></a>"
      ]
    },
    {
      "cell_type": "markdown",
      "source": [
        "# Function ($f(x)$ = $y$)\n",
        "\n"
      ],
      "metadata": {
        "id": "d0Fc4pn5Rppq"
      }
    },
    {
      "cell_type": "markdown",
      "source": [
        "```python\n",
        "def function_name( input_x ) :\n",
        "    # do something with input_x to get output_y\n",
        "    return output_y\n",
        "```\n"
      ],
      "metadata": {
        "id": "dpSEvgxNSvuP"
      }
    },
    {
      "cell_type": "markdown",
      "source": [
        "$f_1(x) = x^2 + 75$"
      ],
      "metadata": {
        "id": "rNDca9VTUzwD"
      }
    },
    {
      "cell_type": "code",
      "source": [
        "def function_f1(x):\n",
        "    a = x**2     # ** คือยกกำลัง\n",
        "    y = a +75\n",
        "    return y\n",
        "\n",
        "print('done!') #ไม่เยื้องแสดงว่าไม่อยู่ในฟังก์ชัน"
      ],
      "metadata": {
        "colab": {
          "base_uri": "https://localhost:8080/"
        },
        "id": "addFN3UZSXN4",
        "outputId": "6db5e5b7-ba03-406d-ee56-e4abc006f80d"
      },
      "execution_count": 4,
      "outputs": [
        {
          "output_type": "stream",
          "name": "stdout",
          "text": [
            "done!\n"
          ]
        }
      ]
    },
    {
      "cell_type": "code",
      "source": [
        "function_f1(3)"
      ],
      "metadata": {
        "colab": {
          "base_uri": "https://localhost:8080/"
        },
        "id": "u3IZIdFSVaWN",
        "outputId": "da11d894-e521-495f-eff6-3e7048b1b03b"
      },
      "execution_count": 5,
      "outputs": [
        {
          "output_type": "execute_result",
          "data": {
            "text/plain": [
              "84"
            ]
          },
          "metadata": {},
          "execution_count": 5
        }
      ]
    },
    {
      "cell_type": "markdown",
      "source": [
        "# Looping"
      ],
      "metadata": {
        "id": "JKjy1xjGR9iT"
      }
    },
    {
      "cell_type": "markdown",
      "source": [
        "# Conditional Statment (if)"
      ],
      "metadata": {
        "id": "1GSzdd8WSAW3"
      }
    }
  ]
}